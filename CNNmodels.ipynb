{
  "nbformat": 4,
  "nbformat_minor": 0,
  "metadata": {
    "colab": {
      "name": "Assignment3.ipynb",
      "provenance": [],
      "collapsed_sections": []
    },
    "kernelspec": {
      "name": "python3",
      "display_name": "Python 3"
    },
    "language_info": {
      "name": "python"
    },
    "accelerator": "GPU"
  },
  "cells": [
    {
      "cell_type": "code",
      "execution_count": 3,
      "metadata": {
        "colab": {
          "base_uri": "https://localhost:8080/"
        },
        "id": "4TE3bMdptBHj",
        "outputId": "3f78b605-7dc2-4815-fab4-2013558dbd60"
      },
      "outputs": [
        {
          "output_type": "stream",
          "name": "stdout",
          "text": [
            "Mounted at /content/drive\n"
          ]
        }
      ],
      "source": [
        "from google.colab import drive\n",
        "drive.mount('/content/drive')"
      ]
    },
    {
      "cell_type": "code",
      "source": [
        "!unzip -q /content/drive/MyDrive/SB/Assignment2/train_data.zip -d /content/drive/MyDrive/SB/Assignment2/\n",
        "!unzip -q /content/drive/MyDrive/SB/Assignment2/test_data.zip -d /content/drive/MyDrive/SB/Assignment2/\n",
        "!unzip -q /content/drive/MyDrive/SB/Assignment2/val_data.zip -d /content/drive/MyDrive/SB/Assignment2/"
      ],
      "metadata": {
        "id": "WSZduPpCtW3a"
      },
      "execution_count": 3,
      "outputs": []
    },
    {
      "cell_type": "code",
      "source": [
        "from __future__ import print_function, division\n",
        "\n",
        "import torch\n",
        "import torch.nn as nn\n",
        "import torch.optim as optim\n",
        "from torch.optim import lr_scheduler\n",
        "import numpy as np\n",
        "import torchvision\n",
        "from torchvision import datasets, models, transforms\n",
        "import matplotlib.pyplot as plt\n",
        "import time\n",
        "import os\n",
        "import copy"
      ],
      "metadata": {
        "id": "vQXQEd68whYE"
      },
      "execution_count": 4,
      "outputs": []
    },
    {
      "cell_type": "code",
      "source": [
        "data_transforms = {\n",
        "    'train': transforms.Compose([\n",
        "        transforms.Resize((128, 64)),\n",
        "        transforms.ToTensor(),\n",
        "        # transforms.Grayscale(num_output_channels=3),\n",
        "        transforms.Normalize([0.485, 0.456, 0.406], [0.229, 0.224, 0.225])\n",
        "    ]),\n",
        "    'val': transforms.Compose([\n",
        "        transforms.Resize(256),\n",
        "        transforms.CenterCrop(224),\n",
        "        transforms.ToTensor(),\n",
        "        transforms.Normalize([0.485, 0.456, 0.406], [0.229, 0.224, 0.225])\n",
        "    ]),\n",
        "}\n",
        "\n",
        "# image_train = datasets.ImageFolder(\"/content/drive/MyDrive/SB/Assignment2/train_data\", data_transforms['train'])\n",
        "# image_val = datasets.ImageFolder(\"/content/drive/MyDrive/SB/Assignment2/val_data\", data_transforms['train'])\n",
        "\n",
        "# train_data = torch.utils.data.DataLoader(image_train, batch_size=4, shuffle=True, num_workers=4, transforms=)\n",
        "# val_data = torch.utils.data.DataLoader(image_val, batch_size=4, shuffle=True, num_workers=4)\n",
        "\n",
        "# device = torch.device(\"cuda:0\" if torch.cuda.is_available() else \"cpu\")\n",
        "\n",
        "\n",
        "data_dir = '/content/drive/MyDrive/SB/Assignment2/'\n",
        "image_datasets = {x: datasets.ImageFolder(data_dir+x+\"_data\",\n",
        "                                          data_transforms['train'])\n",
        "                  for x in ['train', 'val']}\n",
        "dataloaders = {x: torch.utils.data.DataLoader(image_datasets[x], batch_size=4,\n",
        "                                             shuffle=True, num_workers=2)\n",
        "              for x in ['train', 'val']}\n",
        "dataset_sizes = {x: len(image_datasets[x]) for x in ['train', 'val']}\n",
        "class_names = image_datasets['train'].classes\n",
        "\n",
        "device = torch.device(\"cuda:0\" if torch.cuda.is_available() else \"cpu\")"
      ],
      "metadata": {
        "id": "LAIJtpO0wpK3"
      },
      "execution_count": 5,
      "outputs": []
    },
    {
      "cell_type": "code",
      "source": [
        "def train_model(model, criterion, optimizer, scheduler, num_epochs=25):\n",
        "    since = time.time()\n",
        "\n",
        "    best_model_wts = copy.deepcopy(model.state_dict())\n",
        "    best_acc = 0.0\n",
        "\n",
        "    for epoch in range(num_epochs):\n",
        "        print('Epoch {}/{}'.format(epoch, num_epochs - 1))\n",
        "        print('-' * 10)\n",
        "\n",
        "        # Each epoch has a training and validation phase\n",
        "        for phase in ['train', 'val']:\n",
        "            if phase == 'train':\n",
        "                model.train()  # Set model to training mode\n",
        "            else:\n",
        "                model.eval()   # Set model to evaluate mode\n",
        "\n",
        "            running_loss = 0.0\n",
        "            running_corrects = 0\n",
        "\n",
        "            # Iterate over data.\n",
        "            for inputs, labels in dataloaders[phase]:\n",
        "                inputs = inputs.to(device)\n",
        "                labels = labels.to(device)\n",
        "\n",
        "                # zero the parameter gradients\n",
        "                optimizer.zero_grad()\n",
        "\n",
        "                # forward\n",
        "                # track history if only in train\n",
        "                with torch.set_grad_enabled(phase == 'train'):\n",
        "                    outputs = model(inputs)\n",
        "                    _, preds = torch.max(outputs, 1)\n",
        "                    loss = criterion(outputs, labels)\n",
        "\n",
        "                    # backward + optimize only if in training phase\n",
        "                    if phase == 'train':\n",
        "                        loss.backward()\n",
        "                        optimizer.step()\n",
        "\n",
        "                # statistics\n",
        "                running_loss += loss.item() * inputs.size(0)\n",
        "                running_corrects += torch.sum(preds == labels.data)\n",
        "            if phase == 'train':\n",
        "                scheduler.step()\n",
        "\n",
        "            epoch_loss = running_loss / dataset_sizes[phase]\n",
        "            epoch_acc = running_corrects.double() / dataset_sizes[phase]\n",
        "\n",
        "            print('{} Loss: {:.4f} Acc: {:.4f}'.format(\n",
        "                phase, epoch_loss, epoch_acc))\n",
        "\n",
        "            # deep copy the model\n",
        "            if phase == 'val' and epoch_acc > best_acc:\n",
        "                best_acc = epoch_acc\n",
        "                best_model_wts = copy.deepcopy(model.state_dict())\n",
        "\n",
        "        print()\n",
        "\n",
        "    time_elapsed = time.time() - since\n",
        "    print('Training complete in {:.0f}m {:.0f}s'.format(\n",
        "        time_elapsed // 60, time_elapsed % 60))\n",
        "    print('Best val Acc: {:4f}'.format(best_acc))\n",
        "\n",
        "    # load best model weights\n",
        "    model.load_state_dict(best_model_wts)\n",
        "    return model"
      ],
      "metadata": {
        "id": "IO7ZnT8a0G-E"
      },
      "execution_count": 6,
      "outputs": []
    },
    {
      "cell_type": "code",
      "source": [
        "model_ft = models.resnet18(pretrained=True)\n",
        "num_ftrs = model_ft.fc.in_features\n",
        "# Here the size of each output sample is set to 2.\n",
        "# Alternatively, it can be generalized to nn.Linear(num_ftrs, len(class_names)).\n",
        "model_ft.fc = nn.Linear(num_ftrs, 100)\n",
        "\n",
        "model_ft = model_ft.to(device)\n",
        "\n",
        "criterion = nn.CrossEntropyLoss()\n",
        "\n",
        "# Observe that all parameters are being optimized\n",
        "optimizer_ft = optim.SGD(model_ft.parameters(), lr=0.001, momentum=0.9)\n",
        "\n",
        "# Decay LR by a factor of 0.1 every 7 epochs\n",
        "exp_lr_scheduler = lr_scheduler.StepLR(optimizer_ft, step_size=7, gamma=0.1)"
      ],
      "metadata": {
        "id": "sIfbdhku0QjD"
      },
      "execution_count": 20,
      "outputs": []
    },
    {
      "cell_type": "code",
      "source": [
        "# use this if u want to use Alexnet\n",
        "\n",
        "model_ft = models.alexnet(pretrained=True)\n",
        "num_ftrs = model_ft.classifier[6].in_features\n",
        "# Here the size of each output sample is set to 2.\n",
        "# Alternatively, it can be generalized to nn.Linear(num_ftrs, len(class_names)).\n",
        "model_ft.fc = nn.Linear(num_ftrs, 100)\n",
        "model_ft.classifier[6] = nn.Linear(num_ftrs, 100)\n",
        "\n",
        "model_ft = model_ft.to(device)\n",
        "\n",
        "criterion = nn.CrossEntropyLoss()\n",
        "\n",
        "# Observe that all parameters are being optimized\n",
        "optimizer_ft = optim.SGD(model_ft.parameters(), lr=0.001, momentum=0.9)\n",
        "\n",
        "# Decay LR by a factor of 0.1 every 7 epochs\n",
        "exp_lr_scheduler = lr_scheduler.StepLR(optimizer_ft, step_size=7, gamma=0.1)"
      ],
      "metadata": {
        "id": "8LPaXRI-mzoQ"
      },
      "execution_count": 22,
      "outputs": []
    },
    {
      "cell_type": "code",
      "source": [
        "model_ft = train_model(model_ft, criterion, optimizer_ft, exp_lr_scheduler,\n",
        "                       num_epochs=25)"
      ],
      "metadata": {
        "colab": {
          "base_uri": "https://localhost:8080/"
        },
        "id": "tzRP0bjz0Ut7",
        "outputId": "2f9133b7-06d2-4f3c-bde5-e9783f3318cb"
      },
      "execution_count": 23,
      "outputs": [
        {
          "output_type": "stream",
          "name": "stdout",
          "text": [
            "Epoch 0/24\n",
            "----------\n",
            "train Loss: 4.5091 Acc: 0.0340\n",
            "val Loss: 4.5660 Acc: 0.0308\n",
            "\n",
            "Epoch 1/24\n",
            "----------\n",
            "train Loss: 3.7167 Acc: 0.1434\n",
            "val Loss: 4.3357 Acc: 0.0843\n",
            "\n",
            "Epoch 2/24\n",
            "----------\n",
            "train Loss: 2.7961 Acc: 0.3174\n",
            "val Loss: 4.4967 Acc: 0.0950\n",
            "\n",
            "Epoch 3/24\n",
            "----------\n",
            "train Loss: 2.0715 Acc: 0.4693\n",
            "val Loss: 4.3722 Acc: 0.1539\n",
            "\n",
            "Epoch 4/24\n",
            "----------\n",
            "train Loss: 1.5840 Acc: 0.5822\n",
            "val Loss: 4.6568 Acc: 0.1372\n",
            "\n",
            "Epoch 5/24\n",
            "----------\n",
            "train Loss: 1.3051 Acc: 0.6494\n",
            "val Loss: 5.4869 Acc: 0.1258\n",
            "\n",
            "Epoch 6/24\n",
            "----------\n",
            "train Loss: 1.1083 Acc: 0.7138\n",
            "val Loss: 4.7016 Acc: 0.1426\n",
            "\n",
            "Epoch 7/24\n",
            "----------\n",
            "train Loss: 0.3937 Acc: 0.8961\n",
            "val Loss: 4.9784 Acc: 0.2095\n",
            "\n",
            "Epoch 8/24\n",
            "----------\n",
            "train Loss: 0.1368 Acc: 0.9649\n",
            "val Loss: 5.4189 Acc: 0.2095\n",
            "\n",
            "Epoch 9/24\n",
            "----------\n",
            "train Loss: 0.0811 Acc: 0.9805\n",
            "val Loss: 5.7581 Acc: 0.2115\n",
            "\n",
            "Epoch 10/24\n",
            "----------\n",
            "train Loss: 0.0552 Acc: 0.9893\n",
            "val Loss: 6.0669 Acc: 0.2068\n",
            "\n",
            "Epoch 11/24\n",
            "----------\n",
            "train Loss: 0.0405 Acc: 0.9901\n",
            "val Loss: 6.3125 Acc: 0.2095\n",
            "\n",
            "Epoch 12/24\n",
            "----------\n",
            "train Loss: 0.0293 Acc: 0.9951\n",
            "val Loss: 6.4051 Acc: 0.2082\n",
            "\n",
            "Epoch 13/24\n",
            "----------\n",
            "train Loss: 0.0240 Acc: 0.9953\n",
            "val Loss: 6.6156 Acc: 0.2062\n",
            "\n",
            "Epoch 14/24\n",
            "----------\n",
            "train Loss: 0.0174 Acc: 0.9975\n",
            "val Loss: 6.6282 Acc: 0.2055\n",
            "\n",
            "Epoch 15/24\n",
            "----------\n",
            "train Loss: 0.0195 Acc: 0.9967\n",
            "val Loss: 6.6453 Acc: 0.2055\n",
            "\n",
            "Epoch 16/24\n",
            "----------\n",
            "train Loss: 0.0177 Acc: 0.9975\n",
            "val Loss: 6.6546 Acc: 0.2055\n",
            "\n",
            "Epoch 17/24\n",
            "----------\n",
            "train Loss: 0.0150 Acc: 0.9975\n",
            "val Loss: 6.6709 Acc: 0.2062\n",
            "\n",
            "Epoch 18/24\n",
            "----------\n",
            "train Loss: 0.0146 Acc: 0.9981\n",
            "val Loss: 6.6845 Acc: 0.2068\n",
            "\n",
            "Epoch 19/24\n",
            "----------\n",
            "train Loss: 0.0151 Acc: 0.9986\n",
            "val Loss: 6.6936 Acc: 0.2068\n",
            "\n",
            "Epoch 20/24\n",
            "----------\n",
            "train Loss: 0.0145 Acc: 0.9970\n",
            "val Loss: 6.7033 Acc: 0.2082\n",
            "\n",
            "Epoch 21/24\n",
            "----------\n",
            "train Loss: 0.0166 Acc: 0.9967\n",
            "val Loss: 6.7048 Acc: 0.2082\n",
            "\n",
            "Epoch 22/24\n",
            "----------\n",
            "train Loss: 0.0155 Acc: 0.9984\n",
            "val Loss: 6.7065 Acc: 0.2088\n",
            "\n",
            "Epoch 23/24\n",
            "----------\n",
            "train Loss: 0.0158 Acc: 0.9973\n",
            "val Loss: 6.7077 Acc: 0.2082\n",
            "\n",
            "Epoch 24/24\n",
            "----------\n",
            "train Loss: 0.0134 Acc: 0.9975\n",
            "val Loss: 6.7092 Acc: 0.2082\n",
            "\n",
            "Training complete in 16m 13s\n",
            "Best val Acc: 0.211513\n"
          ]
        }
      ]
    },
    {
      "cell_type": "code",
      "source": [
        "!rm -R /content/drive/MyDrive/SB/Assignment2/test_data/.ipynb_checkpoints"
      ],
      "metadata": {
        "colab": {
          "base_uri": "https://localhost:8080/"
        },
        "id": "zGL8sSae-LW8",
        "outputId": "3757b257-c58c-4b27-853b-fc6471aa7103"
      },
      "execution_count": 11,
      "outputs": [
        {
          "output_type": "stream",
          "name": "stdout",
          "text": [
            "rm: cannot remove '/content/drive/MyDrive/SB/Assignment2/test_data/.ipynb_checkpoints': No such file or directory\n"
          ]
        }
      ]
    },
    {
      "cell_type": "code",
      "source": [
        "torch.save(model_ft.state_dict(), \"/content/drive/MyDrive/SB/Assignment2/resnet50_noG.pth\")"
      ],
      "metadata": {
        "id": "sMLzAv7T_dPS"
      },
      "execution_count": 12,
      "outputs": []
    },
    {
      "cell_type": "code",
      "source": [
        "test_dataset = datasets.ImageFolder(\"/content/drive/MyDrive/SB/Assignment2/test_data\", data_transforms['train'])\n",
        "datattest = torch.utils.data.DataLoader(test_dataset, batch_size=4, shuffle=True, num_workers=2)"
      ],
      "metadata": {
        "id": "p9FiQtyu8bh2"
      },
      "execution_count": 24,
      "outputs": []
    },
    {
      "cell_type": "code",
      "source": [
        "# evalvation - calculate test accuracy\n",
        "with torch.no_grad():\n",
        "    accuracy = 0\n",
        "    correct = 0\n",
        "    total = 0\n",
        "\n",
        "    for data in datattest:\n",
        "        images, new_labels = data\n",
        "        images = images.to(device)\n",
        "        new_labels = new_labels.to(device)\n",
        "        outputs = model_ft(images)\n",
        "        _ , pred = torch.max(outputs, 1)\n",
        "        total += new_labels.size(0)\n",
        "        correct += torch.sum(pred == new_labels.data)\n",
        "\n",
        "    accuracy = correct.double() / total\n",
        "\n",
        "print('Test accuracy is: ' + str(accuracy.item()))"
      ],
      "metadata": {
        "colab": {
          "base_uri": "https://localhost:8080/"
        },
        "id": "CDqKae3v8jx1",
        "outputId": "87e85b20-439c-4c5d-ad75-0f274f531847"
      },
      "execution_count": 27,
      "outputs": [
        {
          "output_type": "stream",
          "name": "stdout",
          "text": [
            "Test accuracy is: 0.11224489795918367\n"
          ]
        }
      ]
    },
    {
      "cell_type": "code",
      "source": [
        "model_ft.load_state_dict(torch.load(\"/content/drive/MyDrive/SB/Assignment2/resnet50.pth\"))"
      ],
      "metadata": {
        "colab": {
          "base_uri": "https://localhost:8080/"
        },
        "id": "W5kMYQWlIHR6",
        "outputId": "16af54b2-dddc-485a-c82c-720666fe001d"
      },
      "execution_count": 84,
      "outputs": [
        {
          "output_type": "execute_result",
          "data": {
            "text/plain": [
              "<All keys matched successfully>"
            ]
          },
          "metadata": {},
          "execution_count": 84
        }
      ]
    }
  ]
}